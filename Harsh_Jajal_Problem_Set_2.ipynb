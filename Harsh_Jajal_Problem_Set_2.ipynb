{
  "cells": [
    {
      "cell_type": "markdown",
      "metadata": {
        "id": "pPf8wZr1l8l0"
      },
      "source": [
        "## Question 1\n",
        "\n",
        "Consider the following Python module: </br>\n",
        "\n",
        "a = 0 </br>\n",
        "\n",
        "def b(): </br>\n",
        "    global a </br>\n",
        "    a = c(a) </br>\n",
        "\n",
        "def c(a): </br>\n",
        "    return a + 2 </br>\n",
        "    \n",
        "After importing the module into the interpreter, you execute: </br>\n",
        "\n",
        "b() </br>\n",
        "\n",
        "b() </br>\n",
        "\n",
        "b() </br>\n",
        "\n",
        "a   </br>\n",
        "\n",
        "?   </br>\n",
        "\n",
        " What value is displayed when the last expression (a) is evaluated? Explain your answer by indicating what happens in every executed statement.\n",
        "    \n",
        "    "
      ]
    },
    {
      "cell_type": "code",
      "execution_count": 1,
      "metadata": {
        "colab": {
          "base_uri": "https://localhost:8080/"
        },
        "id": "ic9tvX0Jl8l3",
        "outputId": "fdc07f2d-78dc-4d72-a211-cb2f1db77fab"
      },
      "outputs": [
        {
          "output_type": "stream",
          "name": "stdout",
          "text": [
            "2\n",
            "4\n",
            "6\n",
            "6\n"
          ]
        }
      ],
      "source": [
        "a=0\n",
        "\n",
        "def b():\n",
        "    global a\n",
        "    a = c(a)\n",
        "    return a\n",
        "\n",
        "def c(a):\n",
        "    return a + 2\n",
        "\n",
        "print(b())\n",
        "print(b())\n",
        "print(b())\n",
        "print(a)"
      ]
    },
    {
      "cell_type": "markdown",
      "metadata": {
        "id": "8q5nbLrHl8l4"
      },
      "source": [
        "- In the first b() call the global a is used i.e. 0 which is passed to c() from which the value of a becomes 2 and hence b() returns 2 </br>\n",
        "- In the second b() call the same process is followed and the a value becomes 4 </br>\n",
        "- The same thing in the 3rd b() call. The value of a becomes 6 </br>\n",
        "- As the a used in b() was declared global so the value change of a is made to the global a. Hence the final value of a becomes 6."
      ]
    },
    {
      "cell_type": "markdown",
      "metadata": {
        "id": "4koOfAgel8l5"
      },
      "source": [
        "## Question 2"
      ]
    },
    {
      "cell_type": "markdown",
      "metadata": {
        "id": "bcVkVXSjl8l5"
      },
      "source": [
        "#### Function fileLength(), given to you, takes the name of a file as input and returns the length of the file:\n",
        "\n",
        "fileLength('midterm.py') </br>\n",
        "\n",
        "284 </br>\n",
        "\n",
        "fileLength('idterm.py') </br>\n",
        "\n",
        "Traceback (most recent call last): </br>\n",
        "\n",
        "  File \"<pyshell#34>\", line 1, in module </br>\n",
        "  \n",
        "  fileLength('idterm.py') </br>\n",
        "    \n",
        "  File \"/Users/me/midterm.py\", line 3, in fileLength </br>\n",
        "  \n",
        "  infile = open(filename) </br>\n",
        "  \n",
        "FileNotFoundError: [Errno 2] No such file or directory: </br>\n",
        "\n",
        "'idterm.py' </br>\n",
        "\n",
        "As shown above, if the file cannot be found by the interpreter or if it cannot be read\n",
        "as a text file, an exception will be raised. Modify function fileLength() so that a friendly message is printed instead:\n",
        "  \n",
        "fileLength('midterm.py') </br>\n",
        "\n",
        "358 </br>\n",
        "\n",
        "fileLength('idterm.py') </br>\n",
        "\n",
        "File idterm.py not found. </br>\n",
        "\n"
      ]
    },
    {
      "cell_type": "code",
      "execution_count": 2,
      "metadata": {
        "id": "GJpRuUPbl8l5"
      },
      "outputs": [],
      "source": [
        "def fileLength(filename):\n",
        "    try:\n",
        "        open_file = open(filename, 'r')\n",
        "        file_data = open_file.read()\n",
        "        length_of_file = len(file_data)\n",
        "        open_file.close()\n",
        "        return length_of_file\n",
        "    except:\n",
        "        return \"file \"+ filename + \" not found.\"\n",
        "\n"
      ]
    },
    {
      "cell_type": "code",
      "execution_count": 4,
      "metadata": {
        "colab": {
          "base_uri": "https://localhost:8080/"
        },
        "id": "Z0C-TFW0l8l5",
        "outputId": "44d400fb-18c8-415d-d231-cfb635c02168"
      },
      "outputs": [
        {
          "output_type": "execute_result",
          "data": {
            "text/plain": [
              "396"
            ]
          },
          "metadata": {},
          "execution_count": 4
        }
      ],
      "source": [
        "fileLength('w3c.txt')"
      ]
    },
    {
      "cell_type": "code",
      "execution_count": null,
      "metadata": {
        "id": "BlR-Ll28l8l6",
        "outputId": "2a95cc69-fed1-4a17-bbc9-b6e6485c36c2"
      },
      "outputs": [
        {
          "data": {
            "text/plain": [
              "'file idterm.py not found.'"
            ]
          },
          "execution_count": 6,
          "metadata": {},
          "output_type": "execute_result"
        }
      ],
      "source": [
        "fileLength(\"idterm.py\")"
      ]
    },
    {
      "cell_type": "markdown",
      "metadata": {
        "id": "2E4a3wTSl8l6"
      },
      "source": [
        "## Question 3"
      ]
    },
    {
      "cell_type": "markdown",
      "metadata": {
        "id": "jdogTncul8l6"
      },
      "source": [
        "### Write a class named Marsupial that can be used as shown below:\n",
        "\n",
        "m = Marsupial() </br>\n",
        "\n",
        "m.put_in_pouch('doll') </br>\n",
        "\n",
        "m.put_in_pouch('firetruck') </br>\n",
        "\n",
        "m.put_in_pouch('kitten') </br>\n",
        "\n",
        "m.pouch_contents() </br>\n",
        "\n",
        "['doll', 'firetruck', 'kitten']"
      ]
    },
    {
      "cell_type": "code",
      "execution_count": 5,
      "metadata": {
        "colab": {
          "base_uri": "https://localhost:8080/"
        },
        "id": "iuG608hQl8l7",
        "outputId": "2aa0dcf6-4b3c-4f16-d4cc-252d075d30b1"
      },
      "outputs": [
        {
          "output_type": "stream",
          "name": "stdout",
          "text": [
            "['doll', 'firetruck', 'kitten']\n"
          ]
        }
      ],
      "source": [
        "class Marsupial:\n",
        "\n",
        "    def __init__(self):\n",
        "        self.new_list = []\n",
        "        self.new_list.clear()\n",
        "\n",
        "    def put_in_pouch(self, value):\n",
        "        self.new_list.append(value)\n",
        "\n",
        "    def pouch_contents(self):\n",
        "        return self.new_list\n",
        "\n",
        "m = Marsupial()\n",
        "m.put_in_pouch('doll')\n",
        "m.put_in_pouch('firetruck')\n",
        "m.put_in_pouch('kitten')\n",
        "print(m.pouch_contents())"
      ]
    },
    {
      "cell_type": "markdown",
      "metadata": {
        "id": "G8Bfqql4l8l7"
      },
      "source": [
        "Now write a class named Kangaroo as a subclass of Marsupial that inherits all the attributes of Marsupial and also: </br>\n",
        "\n",
        "a. extends the Marsupial __init__ constructor to take, as input, the coordinates x and y of the Kangaroo object, </br>\n",
        "\n",
        "b. supports method jump that takes number values dx and dy as input and moves the kangaroo by dx units along the x-axis and by dy units along the y- axis, and </br>\n",
        "\n",
        "c. overloads the __str__ operator so it behaves as shown below."
      ]
    },
    {
      "cell_type": "code",
      "execution_count": 6,
      "metadata": {
        "colab": {
          "base_uri": "https://localhost:8080/"
        },
        "id": "2aXKQ_0vl8l7",
        "outputId": "a8040d1e-20ef-4a83-aade-14009572b0b2"
      },
      "outputs": [
        {
          "output_type": "stream",
          "name": "stdout",
          "text": [
            "I am a Kangaroo located at coordinates (0,0)\n",
            "['doll', 'firetruck', 'kitten']\n",
            "I am a Kangaroo located at coordinates (3,0)\n"
          ]
        }
      ],
      "source": [
        "class Kangaroo(Marsupial):\n",
        "\n",
        "    def __init__(self,x,y):\n",
        "        self.new_list = []\n",
        "        self.new_list.clear ()\n",
        "        self.x = x\n",
        "        self.y = y\n",
        "\n",
        "    def  __str__(self):\n",
        "         return (\"I am a Kangaroo located at coordinates (\"+str(self.x)+\",\"+str(self.y)+\")\")\n",
        "\n",
        "    def jump(self,dx,dy):\n",
        "        self.x = self.x + dx\n",
        "        self.y = self.y + dy\n",
        "\n",
        "\n",
        "k = Kangaroo(0,0)\n",
        "print(k)\n",
        "k.put_in_pouch('doll')\n",
        "k.put_in_pouch('firetruck')\n",
        "k.put_in_pouch('kitten')\n",
        "print(k.pouch_contents())\n",
        "k.jump(1,0)\n",
        "k.jump(1,0)\n",
        "k.jump(1,0)\n",
        "print(k)"
      ]
    },
    {
      "cell_type": "markdown",
      "metadata": {
        "id": "y2ylKshWl8l8"
      },
      "source": [
        "## Question 4\n",
        "\n",
        "Write function collatz() that takes a positive integer x as input and prints the Collatz sequence starting at x. A Collatz sequence is obtained by repeatedly applying this rule to the previous number x in the sequence: </br>\n",
        "\n",
        "### x={ 𝑥/2 𝑖𝑓 𝑥 𝑖𝑠 𝑒𝑣𝑒𝑛 , 3𝑥 + 1 𝑖𝑓 𝑥 𝑖𝑠 𝑜𝑑𝑑 </br>\n",
        "\n",
        "Your function should stop when the sequence gets to number 1. Your implementation must be recursive, without any loops. </br>\n"
      ]
    },
    {
      "cell_type": "code",
      "execution_count": 7,
      "metadata": {
        "id": "N-8KeYY9l8mE"
      },
      "outputs": [],
      "source": [
        "def collatz(input):\n",
        "\n",
        "    new_list = [input]\n",
        "    if input < 1:\n",
        "        return (\"Enter a postive integer\")\n",
        "\n",
        "    if input == 1:\n",
        "        return [1]\n",
        "\n",
        "    elif input % 2 == 0:\n",
        "        new_list.extend(collatz(int(input/2)))\n",
        "    else:\n",
        "        new_list.extend(collatz((input*3)+1))\n",
        "    return new_list\n"
      ]
    },
    {
      "cell_type": "code",
      "execution_count": 8,
      "metadata": {
        "colab": {
          "base_uri": "https://localhost:8080/"
        },
        "id": "H92FZYPNl8mF",
        "outputId": "3242dbdf-6444-4a83-9833-3bdf3069f6c6"
      },
      "outputs": [
        {
          "output_type": "stream",
          "name": "stdout",
          "text": [
            "1\n"
          ]
        }
      ],
      "source": [
        "values = collatz(1)\n",
        "for value in values:\n",
        "    print(value)"
      ]
    },
    {
      "cell_type": "code",
      "execution_count": 9,
      "metadata": {
        "colab": {
          "base_uri": "https://localhost:8080/"
        },
        "id": "qsQ1_KMNl8mF",
        "outputId": "207e3ff6-0a58-495e-91a9-622466f94589"
      },
      "outputs": [
        {
          "output_type": "stream",
          "name": "stdout",
          "text": [
            "10\n",
            "5\n",
            "16\n",
            "8\n",
            "4\n",
            "2\n",
            "1\n"
          ]
        }
      ],
      "source": [
        "values = collatz(10)\n",
        "for value in values:\n",
        "    print(value)"
      ]
    },
    {
      "cell_type": "markdown",
      "metadata": {
        "id": "ns8VtS0dl8mF"
      },
      "source": [
        "## Question 5\n",
        "\n",
        "Write a recursive method binary() that takes a non-negative integer n and prints the binary representation of integer n."
      ]
    },
    {
      "cell_type": "code",
      "execution_count": 10,
      "metadata": {
        "id": "wBUd3KS-l8mG"
      },
      "outputs": [],
      "source": [
        "def binary(input):\n",
        "    if input<0:\n",
        "        return (\"Enter postive integer\")\n",
        "\n",
        "    elif input >=1:\n",
        "        return ((10*binary(int(input/2))) + (input%2))\n",
        "\n",
        "    else:\n",
        "        return 0\n",
        ""
      ]
    },
    {
      "cell_type": "code",
      "execution_count": 11,
      "metadata": {
        "colab": {
          "base_uri": "https://localhost:8080/"
        },
        "id": "6h4JS9-Jl8mG",
        "outputId": "c2192463-9187-42d6-fb17-747e9912c629"
      },
      "outputs": [
        {
          "output_type": "execute_result",
          "data": {
            "text/plain": [
              "0"
            ]
          },
          "metadata": {},
          "execution_count": 11
        }
      ],
      "source": [
        "binary(0)"
      ]
    },
    {
      "cell_type": "code",
      "execution_count": 12,
      "metadata": {
        "colab": {
          "base_uri": "https://localhost:8080/"
        },
        "id": "8SazVMkGl8mG",
        "outputId": "2e784164-96b4-4b61-e521-26a83fa70562"
      },
      "outputs": [
        {
          "output_type": "execute_result",
          "data": {
            "text/plain": [
              "1"
            ]
          },
          "metadata": {},
          "execution_count": 12
        }
      ],
      "source": [
        "binary(1)"
      ]
    },
    {
      "cell_type": "code",
      "execution_count": 13,
      "metadata": {
        "colab": {
          "base_uri": "https://localhost:8080/"
        },
        "id": "VI0Hm8Eql8mG",
        "outputId": "d3c7b6fb-1970-4267-83a2-3d6c5c43f326"
      },
      "outputs": [
        {
          "output_type": "execute_result",
          "data": {
            "text/plain": [
              "11"
            ]
          },
          "metadata": {},
          "execution_count": 13
        }
      ],
      "source": [
        "binary(3)"
      ]
    },
    {
      "cell_type": "code",
      "execution_count": 14,
      "metadata": {
        "colab": {
          "base_uri": "https://localhost:8080/"
        },
        "id": "S8of6s_hl8mH",
        "outputId": "252c8cc6-27f6-49d7-ce55-07bf5c02add6"
      },
      "outputs": [
        {
          "output_type": "execute_result",
          "data": {
            "text/plain": [
              "1001"
            ]
          },
          "metadata": {},
          "execution_count": 14
        }
      ],
      "source": [
        "binary(9)"
      ]
    },
    {
      "cell_type": "markdown",
      "metadata": {
        "id": "ZT97KDRsl8mH"
      },
      "source": [
        "## Question 8\n",
        "\n",
        "Write SQL queries on the below database table that return:\n",
        "\n",
        "`Note :-` Reffered https://medium.com/@tattwei46/how-to-use-python-with-mysql-79304bee8753 for connecting mysql with jupyter notebook.\n"
      ]
    },
    {
      "cell_type": "code",
      "execution_count": null,
      "metadata": {
        "id": "exzdv-Nil8mH"
      },
      "outputs": [],
      "source": [
        "import mysql.connector\n",
        "\n",
        "mydatabase = mysql.connector.connect(\n",
        "  host=\"localhost\",\n",
        "  user=\"root\",\n",
        "  password=\"helloworld\"\n",
        ")\n",
        "\n",
        "mycursor = mydatabase.cursor()\n",
        "\n",
        "mycursor.execute(\"CREATE DATABASE problemset2\")"
      ]
    },
    {
      "cell_type": "code",
      "execution_count": null,
      "metadata": {
        "id": "_ZAJ2OJ6l8mI"
      },
      "outputs": [],
      "source": [
        "import mysql.connector\n",
        "\n",
        "mydatabase = mysql.connector.connect(\n",
        "  host=\"localhost\",\n",
        "  user=\"root\",\n",
        "  password=\"helloworld\",\n",
        "  database = 'problemset2'\n",
        ")\n",
        "\n",
        "mycursor = mydatabase.cursor()\n",
        "\n",
        "mycursor.execute(\"CREATE TABLE temperature_data (City VARCHAR(255), Country VARCHAR(255), Season VARCHAR(255),Temperature FLOAT,Rainfall FLOAT)\")"
      ]
    },
    {
      "cell_type": "code",
      "execution_count": null,
      "metadata": {
        "id": "-SZAhvD6l8mI",
        "outputId": "7ff92537-b835-4498-d6cb-676857563996"
      },
      "outputs": [
        {
          "name": "stdout",
          "output_type": "stream",
          "text": [
            "12 record(s) inserted.\n"
          ]
        }
      ],
      "source": [
        "import mysql.connector\n",
        "\n",
        "mydatabase = mysql.connector.connect(\n",
        "  host=\"localhost\",\n",
        "  user=\"root\",\n",
        "  password=\"helloworld\",\n",
        "  database = 'problemset2'\n",
        ")\n",
        "\n",
        "mycursor = mydatabase.cursor()\n",
        "\n",
        "sql = \"INSERT INTO temperature_data (City, Country, Season, Temperature, Rainfall) VALUES (%s,%s,%s,%s,%s)\"\n",
        "val = [\n",
        "    ('Mumbai','India','Winter',24.8,5.9),\n",
        "('Mumbai','India','Spring',28.4,16.2),\n",
        "('Mumbai','India','Summer',27.9,1549.4),\n",
        "('Mumbai','India','Fall',27.6,346.0),\n",
        "('London','United Kingdom','Winter',4.2,207.7),\n",
        "('London','United Kingdom','Spring',8.3,169.6),\n",
        "('London','United Kingdom','Summer',15.7,157.0),\n",
        "('London','United Kingdom','Fall',10.4,218.5),\n",
        "('Cairo','Egypt','Winter',13.6,16.5),\n",
        "('Cairo','Egypt','Spring',20.7,6.5),\n",
        "('Cairo','Egypt','Summer',27.7,0.1),\n",
        "('Cairo','Egypt','Fall',22.2,4.5)\n",
        "]\n",
        "mycursor.executemany(sql, val)\n",
        "mydb.commit()\n",
        "print(mycursor.rowcount, \"record(s) inserted.\")"
      ]
    },
    {
      "cell_type": "markdown",
      "metadata": {
        "id": "zI4_-Y_sl8mI"
      },
      "source": [
        "### a) All the temperature data. </br>"
      ]
    },
    {
      "cell_type": "code",
      "execution_count": null,
      "metadata": {
        "id": "P5ZDpRgel8mI",
        "outputId": "40787d0f-8d8a-406b-ab19-64eec8075b96"
      },
      "outputs": [
        {
          "name": "stdout",
          "output_type": "stream",
          "text": [
            "(24.8,)\n",
            "(28.4,)\n",
            "(27.9,)\n",
            "(27.6,)\n",
            "(4.2,)\n",
            "(8.3,)\n",
            "(15.7,)\n",
            "(10.4,)\n",
            "(13.6,)\n",
            "(20.7,)\n",
            "(27.7,)\n",
            "(22.2,)\n"
          ]
        }
      ],
      "source": [
        "import mysql.connector\n",
        "\n",
        "mydatabase = mysql.connector.connect(\n",
        "  host=\"localhost\",\n",
        "  user=\"root\",\n",
        "  passwd=\"helloworld\",\n",
        "  database=\"problemset2\"\n",
        ")\n",
        "mycursor = mydatabase.cursor()\n",
        "\n",
        "sql = \"select temperature from temperature_data\"\n",
        "\n",
        "mycursor.execute(sql)\n",
        "\n",
        "myresult = mycursor.fetchall()\n",
        "\n",
        "for x in myresult:\n",
        "  print(x)"
      ]
    },
    {
      "cell_type": "markdown",
      "metadata": {
        "id": "aFh4ZJAfl8mI"
      },
      "source": [
        "### b) All the cities, but without repetition. </br>"
      ]
    },
    {
      "cell_type": "code",
      "execution_count": null,
      "metadata": {
        "id": "sixFVqPgl8mI",
        "outputId": "527382a3-185a-4904-a1ff-ce7e8ad3f5a4"
      },
      "outputs": [
        {
          "name": "stdout",
          "output_type": "stream",
          "text": [
            "('Mumbai',)\n",
            "('London',)\n",
            "('Cairo',)\n"
          ]
        }
      ],
      "source": [
        "import mysql.connector\n",
        "\n",
        "mydatabase = mysql.connector.connect(\n",
        "  host=\"localhost\",\n",
        "  user=\"root\",\n",
        "  passwd=\"helloworld\",\n",
        "  database=\"problemset2\"\n",
        ")\n",
        "mycursor = mydatabase.cursor()\n",
        "\n",
        "sql = \"select distinct(city) from temperature_data\"\n",
        "\n",
        "mycursor.execute(sql)\n",
        "\n",
        "myresult = mycursor.fetchall()\n",
        "\n",
        "for x in myresult:\n",
        "  print(x)"
      ]
    },
    {
      "cell_type": "markdown",
      "metadata": {
        "id": "yZ_mh30pl8mI"
      },
      "source": [
        "### c) All the records for India. </br>"
      ]
    },
    {
      "cell_type": "code",
      "execution_count": null,
      "metadata": {
        "id": "s-jXHLSal8mI",
        "outputId": "6163da7b-6147-4f10-b999-fd2e44328a46"
      },
      "outputs": [
        {
          "name": "stdout",
          "output_type": "stream",
          "text": [
            "('Mumbai', 'India', 'Winter', 24.8, 5.9)\n",
            "('Mumbai', 'India', 'Spring', 28.4, 16.2)\n",
            "('Mumbai', 'India', 'Summer', 27.9, 1549.4)\n",
            "('Mumbai', 'India', 'Fall', 27.6, 346.0)\n"
          ]
        }
      ],
      "source": [
        "import mysql.connector\n",
        "\n",
        "mydatabase = mysql.connector.connect(\n",
        "  host=\"localhost\",\n",
        "  user=\"root\",\n",
        "  passwd=\"helloworld\",\n",
        "  database=\"problemset2\"\n",
        ")\n",
        "mycursor = mydatabase.cursor()\n",
        "\n",
        "sql = \"select * from temperature_data where Country = 'India'\"\n",
        "\n",
        "mycursor.execute(sql)\n",
        "\n",
        "myresult = mycursor.fetchall()\n",
        "\n",
        "for x in myresult:\n",
        "  print(x)"
      ]
    },
    {
      "cell_type": "markdown",
      "metadata": {
        "id": "HN_1NvM_l8mJ"
      },
      "source": [
        "### d) All the Fall records. </br>\n"
      ]
    },
    {
      "cell_type": "code",
      "execution_count": null,
      "metadata": {
        "id": "Etsox3ETl8mJ",
        "outputId": "c445bf07-0097-4338-e91f-db825ee46a87"
      },
      "outputs": [
        {
          "name": "stdout",
          "output_type": "stream",
          "text": [
            "('Mumbai', 'India', 'Fall', 27.6, 346.0)\n",
            "('London', 'United Kingdom', 'Fall', 10.4, 218.5)\n",
            "('Cairo', 'Egypt', 'Fall', 22.2, 4.5)\n"
          ]
        }
      ],
      "source": [
        "import mysql.connector\n",
        "\n",
        "mydatabase = mysql.connector.connect(\n",
        "  host=\"localhost\",\n",
        "  user=\"root\",\n",
        "  passwd=\"helloworld\",\n",
        "  database=\"problemset2\"\n",
        ")\n",
        "mycursor = mydatabase.cursor()\n",
        "\n",
        "sql = \"select * from temperature_data where Season = 'Fall'\"\n",
        "\n",
        "mycursor.execute(sql)\n",
        "\n",
        "myresult = mycursor.fetchall()\n",
        "\n",
        "for x in myresult:\n",
        "  print(x)"
      ]
    },
    {
      "cell_type": "markdown",
      "metadata": {
        "id": "JXpLXU7ml8mN"
      },
      "source": [
        "\n",
        "### e) The city, country, and season for which the average rainfall is between 200 and 400 millimeters. </br>\n"
      ]
    },
    {
      "cell_type": "code",
      "execution_count": null,
      "metadata": {
        "id": "QLxqqZYWl8mN",
        "outputId": "693ce0d7-f39f-4ebb-ea83-4456f4f91f64"
      },
      "outputs": [
        {
          "name": "stdout",
          "output_type": "stream",
          "text": [
            "('Mumbai', 'India', 'Fall')\n",
            "('London', 'United Kingdom', 'Winter')\n",
            "('London', 'United Kingdom', 'Fall')\n"
          ]
        }
      ],
      "source": [
        "import mysql.connector\n",
        "\n",
        "mydatabase = mysql.connector.connect(\n",
        "  host=\"localhost\",\n",
        "  user=\"root\",\n",
        "  passwd=\"helloworld\",\n",
        "  database=\"problemset2\"\n",
        ")\n",
        "mycursor = mydatabase.cursor()\n",
        "\n",
        "sql = \"select City,Country,Season from temperature_data where Rainfall between 200 and 400\"\n",
        "\n",
        "mycursor.execute(sql)\n",
        "\n",
        "myresult = mycursor.fetchall()\n",
        "\n",
        "for x in myresult:\n",
        "  print(x)"
      ]
    },
    {
      "cell_type": "markdown",
      "metadata": {
        "id": "PKAtQqC3l8mN"
      },
      "source": [
        "### f) The city and country for which the average Fall temperature is above 20 degrees, in increasing temperature order. </br>\n"
      ]
    },
    {
      "cell_type": "code",
      "execution_count": null,
      "metadata": {
        "id": "TyJbX4bpl8mN",
        "outputId": "9be02a02-6a8e-4f08-c107-1100f3636fc1"
      },
      "outputs": [
        {
          "name": "stdout",
          "output_type": "stream",
          "text": [
            "('Cairo', 'Egypt')\n",
            "('Mumbai', 'India')\n"
          ]
        }
      ],
      "source": [
        "import mysql.connector\n",
        "\n",
        "mydatabase = mysql.connector.connect(\n",
        "  host=\"localhost\",\n",
        "  user=\"root\",\n",
        "  passwd=\"helloworld\",\n",
        "  database=\"problemset2\"\n",
        ")\n",
        "mycursor = mydatabase.cursor()\n",
        "\n",
        "sql = \"select City,Country from temperature_data where Season = 'Fall' and Temperature > 20 order by temperature\"\n",
        "\n",
        "mycursor.execute(sql)\n",
        "\n",
        "myresult = mycursor.fetchall()\n",
        "\n",
        "for x in myresult:\n",
        "  print(x)"
      ]
    },
    {
      "cell_type": "markdown",
      "metadata": {
        "id": "ANPYEkSel8mO"
      },
      "source": [
        "\n",
        "### g) The total annual rainfall for Cairo. </br>\n"
      ]
    },
    {
      "cell_type": "code",
      "execution_count": null,
      "metadata": {
        "id": "RUr-IbBVl8mO",
        "outputId": "5199d8f0-0638-439b-948c-501fedcf76f4"
      },
      "outputs": [
        {
          "name": "stdout",
          "output_type": "stream",
          "text": [
            "(27.600000001490116,)\n"
          ]
        }
      ],
      "source": [
        "import mysql.connector\n",
        "\n",
        "mydatabase = mysql.connector.connect(\n",
        "  host=\"localhost\",\n",
        "  user=\"root\",\n",
        "  passwd=\"helloworld\",\n",
        "  database=\"problemset2\"\n",
        ")\n",
        "mycursor = mydatabase.cursor()\n",
        "\n",
        "sql = \"select sum(rainfall) from temperature_data where city = 'Cairo'\"\n",
        "\n",
        "mycursor.execute(sql)\n",
        "\n",
        "myresult = mycursor.fetchall()\n",
        "\n",
        "for x in myresult:\n",
        "  print(x)"
      ]
    },
    {
      "cell_type": "markdown",
      "metadata": {
        "id": "vL6EPBm9l8mO"
      },
      "source": [
        "\n",
        "### h) The total rainfall for each season. </br>"
      ]
    },
    {
      "cell_type": "code",
      "execution_count": null,
      "metadata": {
        "id": "6ckyMDfKl8mO",
        "outputId": "b2b31c25-4ad1-4c46-b49d-f21f3342a6c4"
      },
      "outputs": [
        {
          "name": "stdout",
          "output_type": "stream",
          "text": [
            "('Winter', 230.09999704360962)\n",
            "('Spring', 192.30000686645508)\n",
            "('Summer', 1706.5000244155526)\n",
            "('Fall', 569.0)\n"
          ]
        }
      ],
      "source": [
        "import mysql.connector\n",
        "\n",
        "mydatabase = mysql.connector.connect(\n",
        "  host=\"localhost\",\n",
        "  user=\"root\",\n",
        "  passwd=\"helloworld\",\n",
        "  database=\"problemset2\"\n",
        ")\n",
        "mycursor = mydatabase.cursor()\n",
        "\n",
        "sql = \"select season, sum(rainfall) from temperature_data group by Season\"\n",
        "\n",
        "mycursor.execute(sql)\n",
        "\n",
        "myresult = mycursor.fetchall()\n",
        "\n",
        "for x in myresult:\n",
        "  print(x)"
      ]
    },
    {
      "cell_type": "markdown",
      "metadata": {
        "id": "y4-Qt-xJl8mP"
      },
      "source": [
        "## Question 9\n",
        "\n",
        "Suppose list words is defined as follows: </br>\n",
        "\n",
        "words = ['The', 'quick', 'brown', 'fox', 'jumps', 'over', 'the', 'lazy', 'dog'] </br>\n",
        "\n",
        "Write list comprehension expressions that use list words and generate the following lists: </br>\n",
        "\n",
        "a) ['THE', 'QUICK', 'BROWN', 'FOX', 'JUMPS', 'OVER', 'THE', 'LAZY', 'DOG'] </br>\n",
        "\n",
        "b) ['the', 'quick', 'brown', 'fox', 'jumps', 'over', 'the', 'lazy', 'dog'] </br>\n",
        "\n",
        "c)[3, 5, 5, 3, 5, 4, 3, 4, 3](the list of lengths of words in list words). </br>\n",
        "\n",
        "d) [['THE', 'the', 3], ['QUICK', 'quick', 5], ['BROWN', 'brown', 5], ['FOX', 'fox', 3], ['JUMPS', 'jumps', 5], ['OVER', 'over', 4], ['THE', 'the', 3], ['LAZY', 'lazy', 4], ['DOG', 'dog', 3]] (the list containing a list for every word of list words, where each list contains the word in uppercase and lowercase and the length of the word.) </br>\n",
        "\n",
        "e) ['The', 'quick', 'brown', 'fox', 'jumps', 'over', 'the', 'lazy', 'dog'] (the list of words in list words containing 4 or more characters.)"
      ]
    },
    {
      "cell_type": "code",
      "execution_count": null,
      "metadata": {
        "id": "aS65uRotl8mP",
        "outputId": "29eda301-8db7-4e19-9a4f-bde8bbde3181"
      },
      "outputs": [
        {
          "name": "stdout",
          "output_type": "stream",
          "text": [
            "['THE', 'QUICK', 'BROWN', 'FOX', 'JUMPS', 'OVER', 'THE', 'LAZY', 'DOG']\n",
            "['the', 'quick', 'brown', 'fox', 'jumps', 'over', 'the', 'lazy', 'dog']\n",
            "[3, 5, 5, 3, 5, 4, 3, 4, 3]\n",
            "[['THE', 'the', 3], ['QUICK', 'quick', 5], ['BROWN', 'brown', 5], ['FOX', 'fox', 3], ['JUMPS', 'jumps', 5], ['OVER', 'over', 4], ['THE', 'the', 3], ['LAZY', 'lazy', 4], ['DOG', 'dog', 3]]\n",
            "['quick', 'brown', 'jumps', 'over', 'lazy']\n"
          ]
        }
      ],
      "source": [
        "words = ['The', 'quick', 'brown', 'fox', 'jumps', 'over', 'the', 'lazy', 'dog']\n",
        "\n",
        "def upper(words):\n",
        "    upper_case_list = []\n",
        "    for word in words:\n",
        "        upper_case_list.append(word.upper())\n",
        "    return upper_case_list\n",
        "\n",
        "def lower(words):\n",
        "    lower_case_list = []\n",
        "    for word in words:\n",
        "        lower_case_list.append(word.lower())\n",
        "    return lower_case_list\n",
        "\n",
        "def length_of_words(words):\n",
        "    word_length_list = []\n",
        "    for word in words:\n",
        "        word_length_list.append(len(word))\n",
        "    return word_length_list\n",
        "\n",
        "def upper_lower_length_of_words(words):\n",
        "    final_list = []\n",
        "    upper_lower_length_of_words_list = []\n",
        "    for word in words:\n",
        "        upper_lower_length_of_words_list.clear()\n",
        "        upper_lower_length_of_words_list.append(word.upper())\n",
        "        upper_lower_length_of_words_list.append (word.lower())\n",
        "        upper_lower_length_of_words_list.append (len(word))\n",
        "        new_list = upper_lower_length_of_words_list.copy()\n",
        "        final_list.append(new_list)\n",
        "    return final_list\n",
        "\n",
        "def check_word_length(words):\n",
        "    word_length = []\n",
        "    for word in words:\n",
        "        if len(word) > 3:\n",
        "            word_length.append(word)\n",
        "    return word_length\n",
        "\n",
        "print(upper(words))\n",
        "print(lower(words))\n",
        "print(length_of_words(words))\n",
        "print(upper_lower_length_of_words(words))\n",
        "print(check_word_length(words))"
      ]
    },
    {
      "cell_type": "code",
      "execution_count": null,
      "metadata": {
        "id": "dTeR4jU4l8mP"
      },
      "outputs": [],
      "source": []
    }
  ],
  "metadata": {
    "kernelspec": {
      "display_name": "Python 3",
      "language": "python",
      "name": "python3"
    },
    "language_info": {
      "codemirror_mode": {
        "name": "ipython",
        "version": 3
      },
      "file_extension": ".py",
      "mimetype": "text/x-python",
      "name": "python",
      "nbconvert_exporter": "python",
      "pygments_lexer": "ipython3",
      "version": "3.8.5"
    },
    "colab": {
      "provenance": []
    }
  },
  "nbformat": 4,
  "nbformat_minor": 0
}